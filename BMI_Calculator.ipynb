{
 "cells": [
  {
   "cell_type": "code",
   "execution_count": 1,
   "id": "1a9e5b10",
   "metadata": {},
   "outputs": [
    {
     "name": "stdout",
     "output_type": "stream",
     "text": [
      "hello Abdirahman welcome to our BMI calculation system\n"
     ]
    }
   ],
   "source": [
    "Name=input(\"what is your name: \")\n",
    "print(f\"hello {Name} welcome to our BMI calculation system\")"
   ]
  },
  {
   "cell_type": "code",
   "execution_count": 2,
   "id": "d18d94ff",
   "metadata": {},
   "outputs": [
    {
     "name": "stdout",
     "output_type": "stream",
     "text": [
      "provide us with the information below\n",
      "*************BMI Results**********\n",
      "Your BMI is: 18.16\n",
      "normal\n"
     ]
    }
   ],
   "source": [
    "print (\"provide us with the information below\")\n",
    "weight=float(input(\"Enter your weight: kgs \"))\n",
    "height=float(input(\"Enter your height: metres \"))\n",
    "BMI = round(weight/(height*height),2)\n",
    "print (\"*************BMI Results**********\")\n",
    "print(f\"Your BMI is: {BMI}\")\n",
    "\n",
    "if BMI >25:\n",
    "    print(\"overweight\")\n",
    "elif BMI <18:\n",
    "    print(\"underweight\")\n",
    "else:\n",
    "    print(\"normal\")"
   ]
  },
  {
   "cell_type": "code",
   "execution_count": null,
   "id": "8316ff37",
   "metadata": {},
   "outputs": [],
   "source": []
  }
 ],
 "metadata": {
  "kernelspec": {
   "display_name": "Python 3 (ipykernel)",
   "language": "python",
   "name": "python3"
  },
  "language_info": {
   "codemirror_mode": {
    "name": "ipython",
    "version": 3
   },
   "file_extension": ".py",
   "mimetype": "text/x-python",
   "name": "python",
   "nbconvert_exporter": "python",
   "pygments_lexer": "ipython3",
   "version": "3.10.5"
  }
 },
 "nbformat": 4,
 "nbformat_minor": 5
}
